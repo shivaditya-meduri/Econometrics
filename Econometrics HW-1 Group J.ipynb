{
 "cells": [
  {
   "cell_type": "markdown",
   "metadata": {},
   "source": [
    "# Introduction to Econometrics - Homework 1\n",
    "## Group J :\n",
    "### Ying Ding - B00780777\n",
    "### Xinyu Hu - B00782286\n",
    "### Meduri Venkata Shivaditya - B00780791\n",
    "### Xinran Yao - B00782287"
   ]
  },
  {
   "cell_type": "code",
   "execution_count": 1,
   "metadata": {},
   "outputs": [],
   "source": [
    "# Importing all the necessary packages\n",
    "import pandas as pd\n",
    "import numpy as np\n",
    "import matplotlib.pyplot as plt\n",
    "import statsmodels.api as sm\n",
    "import math\n",
    "import io\n",
    "from scipy import stats\n",
    "import requests\n",
    "from statsmodels.stats.outliers_influence import summary_table\n",
    "from scipy.stats import norm\n",
    "from scipy.stats import norm\n",
    "from numpy.linalg import inv\n",
    "from scipy.optimize import minimize\n",
    "from scipy.stats import pearsonr"
   ]
  },
  {
   "cell_type": "markdown",
   "metadata": {},
   "source": [
    "# Q 1) Summary Statistics\n",
    "\n",
    "### Data : Monthly excess returns from 384 financial assets\n",
    "\n",
    "### Does higher expected returns imply higher risks?"
   ]
  },
  {
   "cell_type": "code",
   "execution_count": 2,
   "metadata": {},
   "outputs": [
    {
     "data": {
      "text/html": [
       "<div>\n",
       "<style scoped>\n",
       "    .dataframe tbody tr th:only-of-type {\n",
       "        vertical-align: middle;\n",
       "    }\n",
       "\n",
       "    .dataframe tbody tr th {\n",
       "        vertical-align: top;\n",
       "    }\n",
       "\n",
       "    .dataframe thead th {\n",
       "        text-align: right;\n",
       "    }\n",
       "</style>\n",
       "<table border=\"1\" class=\"dataframe\">\n",
       "  <thead>\n",
       "    <tr style=\"text-align: right;\">\n",
       "      <th></th>\n",
       "      <th>MMM</th>\n",
       "      <th>ABT</th>\n",
       "      <th>ATVI</th>\n",
       "      <th>ADBE</th>\n",
       "      <th>AES</th>\n",
       "      <th>AET</th>\n",
       "      <th>AMG</th>\n",
       "      <th>AFL</th>\n",
       "      <th>A</th>\n",
       "      <th>APD</th>\n",
       "      <th>...</th>\n",
       "      <th>HCN</th>\n",
       "      <th>WDC</th>\n",
       "      <th>WY</th>\n",
       "      <th>WHR</th>\n",
       "      <th>WMB</th>\n",
       "      <th>XEL</th>\n",
       "      <th>XRX</th>\n",
       "      <th>XLNX</th>\n",
       "      <th>XL</th>\n",
       "      <th>YUM</th>\n",
       "    </tr>\n",
       "  </thead>\n",
       "  <tbody>\n",
       "    <tr>\n",
       "      <th>0</th>\n",
       "      <td>-1.20</td>\n",
       "      <td>-7.37</td>\n",
       "      <td>-5.35</td>\n",
       "      <td>-16.43</td>\n",
       "      <td>10.11</td>\n",
       "      <td>-4.57</td>\n",
       "      <td>-6.19</td>\n",
       "      <td>-3.34</td>\n",
       "      <td>-8.48</td>\n",
       "      <td>-10.12</td>\n",
       "      <td>...</td>\n",
       "      <td>4.47</td>\n",
       "      <td>20.22</td>\n",
       "      <td>-18.30</td>\n",
       "      <td>-6.17</td>\n",
       "      <td>22.37</td>\n",
       "      <td>0.91</td>\n",
       "      <td>-14.11</td>\n",
       "      <td>-2.55</td>\n",
       "      <td>-12.09</td>\n",
       "      <td>-23.69</td>\n",
       "    </tr>\n",
       "    <tr>\n",
       "      <th>1</th>\n",
       "      <td>-6.24</td>\n",
       "      <td>0.91</td>\n",
       "      <td>-19.23</td>\n",
       "      <td>84.81</td>\n",
       "      <td>4.17</td>\n",
       "      <td>-23.20</td>\n",
       "      <td>13.11</td>\n",
       "      <td>-16.26</td>\n",
       "      <td>56.51</td>\n",
       "      <td>-13.51</td>\n",
       "      <td>...</td>\n",
       "      <td>-3.92</td>\n",
       "      <td>-5.69</td>\n",
       "      <td>-11.00</td>\n",
       "      <td>-7.19</td>\n",
       "      <td>9.42</td>\n",
       "      <td>-9.20</td>\n",
       "      <td>3.76</td>\n",
       "      <td>73.89</td>\n",
       "      <td>-11.31</td>\n",
       "      <td>-7.42</td>\n",
       "    </tr>\n",
       "    <tr>\n",
       "      <th>2</th>\n",
       "      <td>-0.04</td>\n",
       "      <td>6.16</td>\n",
       "      <td>-5.40</td>\n",
       "      <td>8.66</td>\n",
       "      <td>-6.51</td>\n",
       "      <td>34.48</td>\n",
       "      <td>20.36</td>\n",
       "      <td>24.15</td>\n",
       "      <td>-0.35</td>\n",
       "      <td>9.97</td>\n",
       "      <td>...</td>\n",
       "      <td>-10.51</td>\n",
       "      <td>64.81</td>\n",
       "      <td>10.61</td>\n",
       "      <td>7.47</td>\n",
       "      <td>4.61</td>\n",
       "      <td>12.70</td>\n",
       "      <td>19.07</td>\n",
       "      <td>3.37</td>\n",
       "      <td>36.47</td>\n",
       "      <td>16.20</td>\n",
       "    </tr>\n",
       "    <tr>\n",
       "      <th>3</th>\n",
       "      <td>-2.65</td>\n",
       "      <td>8.78</td>\n",
       "      <td>-48.65</td>\n",
       "      <td>8.19</td>\n",
       "      <td>13.75</td>\n",
       "      <td>3.82</td>\n",
       "      <td>-15.99</td>\n",
       "      <td>6.67</td>\n",
       "      <td>-15.24</td>\n",
       "      <td>8.77</td>\n",
       "      <td>...</td>\n",
       "      <td>13.38</td>\n",
       "      <td>-8.02</td>\n",
       "      <td>-6.82</td>\n",
       "      <td>10.63</td>\n",
       "      <td>-15.11</td>\n",
       "      <td>9.29</td>\n",
       "      <td>1.46</td>\n",
       "      <td>-12.01</td>\n",
       "      <td>-14.46</td>\n",
       "      <td>8.59</td>\n",
       "    </tr>\n",
       "    <tr>\n",
       "      <th>4</th>\n",
       "      <td>-1.51</td>\n",
       "      <td>5.35</td>\n",
       "      <td>-1.50</td>\n",
       "      <td>-7.43</td>\n",
       "      <td>-3.49</td>\n",
       "      <td>14.83</td>\n",
       "      <td>-17.01</td>\n",
       "      <td>5.39</td>\n",
       "      <td>-17.43</td>\n",
       "      <td>10.97</td>\n",
       "      <td>...</td>\n",
       "      <td>0.28</td>\n",
       "      <td>-32.32</td>\n",
       "      <td>-7.53</td>\n",
       "      <td>-13.46</td>\n",
       "      <td>10.33</td>\n",
       "      <td>0.93</td>\n",
       "      <td>1.86</td>\n",
       "      <td>3.42</td>\n",
       "      <td>24.43</td>\n",
       "      <td>-13.97</td>\n",
       "    </tr>\n",
       "  </tbody>\n",
       "</table>\n",
       "<p>5 rows × 384 columns</p>\n",
       "</div>"
      ],
      "text/plain": [
       "    MMM   ABT   ATVI   ADBE    AES    AET    AMG    AFL      A    APD  ...  \\\n",
       "0 -1.20 -7.37  -5.35 -16.43  10.11  -4.57  -6.19  -3.34  -8.48 -10.12  ...   \n",
       "1 -6.24  0.91 -19.23  84.81   4.17 -23.20  13.11 -16.26  56.51 -13.51  ...   \n",
       "2 -0.04  6.16  -5.40   8.66  -6.51  34.48  20.36  24.15  -0.35   9.97  ...   \n",
       "3 -2.65  8.78 -48.65   8.19  13.75   3.82 -15.99   6.67 -15.24   8.77  ...   \n",
       "4 -1.51  5.35  -1.50  -7.43  -3.49  14.83 -17.01   5.39 -17.43  10.97  ...   \n",
       "\n",
       "     HCN    WDC     WY    WHR    WMB    XEL    XRX   XLNX     XL    YUM  \n",
       "0   4.47  20.22 -18.30  -6.17  22.37   0.91 -14.11  -2.55 -12.09 -23.69  \n",
       "1  -3.92  -5.69 -11.00  -7.19   9.42  -9.20   3.76  73.89 -11.31  -7.42  \n",
       "2 -10.51  64.81  10.61   7.47   4.61  12.70  19.07   3.37  36.47  16.20  \n",
       "3  13.38  -8.02  -6.82  10.63 -15.11   9.29   1.46 -12.01 -14.46   8.59  \n",
       "4   0.28 -32.32  -7.53 -13.46  10.33   0.93   1.86   3.42  24.43 -13.97  \n",
       "\n",
       "[5 rows x 384 columns]"
      ]
     },
     "execution_count": 2,
     "metadata": {},
     "output_type": "execute_result"
    }
   ],
   "source": [
    "#Importing dataset\n",
    "data_1 = pd.read_csv(\"https://raw.githubusercontent.com/adufays/GDP_expectancy/main/APM_Returns.csv\")\n",
    "#Drop unnecessary columns : Include assets only from financial asset MMM\n",
    "data_1.drop(['Unnamed: 0', 'Date', 'Mkt-RF', 'SMB', 'HML', 'RMW', 'CMA...6'], axis = 1, inplace=True)\n",
    "#View the format of the dataset\n",
    "data_1.head()"
   ]
  },
  {
   "cell_type": "markdown",
   "metadata": {},
   "source": [
    "## Q 1.1) Making a scatter plot : avg returns vs standard deviations for 384 financial assets"
   ]
  },
  {
   "cell_type": "code",
   "execution_count": 3,
   "metadata": {},
   "outputs": [
    {
     "data": {
      "image/png": "[encoded data removed]",
      "text/plain": [
       "<Figure size 432x288 with 1 Axes>"
      ]
     },
     "metadata": {
      "needs_background": "light"
     },
     "output_type": "display_data"
    }
   ],
   "source": [
    "# Calculating the average returns and standard deviations of 384 financial assets\n",
    "ave = data_1.mean() #Average returns\n",
    "std = data_1.std() #Standard deviation\n",
    "# Plotting the data in a scatter plot\n",
    "plt.scatter(ave, std, c='r')\n",
    "plt.xlabel(\"average returns\")\n",
    "plt.ylabel(\"standard deviations\")\n",
    "plt.show()"
   ]
  },
  {
   "cell_type": "markdown",
   "metadata": {},
   "source": [
    "## Q 1.2) Estimating a linear regression model using OLS \n",
    "\n",
    "### Linear regression model : \n",
    "\\begin{equation} \n",
    "std_i = \\beta_1 + \\beta_2ave_i + \\epsilon_i\n",
    "\\end{equation}\n",
    "\n",
    "#### Estimate $\\beta_1$ and $\\beta_2$ "
   ]
  },
  {
   "cell_type": "code",
   "execution_count": 4,
   "metadata": {},
   "outputs": [
    {
     "name": "stdout",
     "output_type": "stream",
     "text": [
      "Beta 1 :  6.827535569653793 Beta 2 :  2.655569979779613\n"
     ]
    }
   ],
   "source": [
    "# Using a custom built model\n",
    "def OLS(x, y):\n",
    "    x_bar = np.mean(x)\n",
    "    y_bar = np.mean(y)\n",
    "    beta_2 = np.sum((x-x_bar)*(y-y_bar))/np.sum((x-x_bar)**2)\n",
    "    beta_1 = y_bar - beta_2*x_bar\n",
    "    return beta_1, beta_2\n",
    "beta1, beta2 = OLS(ave, std)\n",
    "print(\"Beta 1 : \", beta1, \"Beta 2 : \", beta2)"
   ]
  },
  {
   "cell_type": "code",
   "execution_count": 5,
   "metadata": {},
   "outputs": [
    {
     "name": "stdout",
     "output_type": "stream",
     "text": [
      "                            OLS Regression Results                            \n",
      "==============================================================================\n",
      "Dep. Variable:                      y   R-squared:                       0.219\n",
      "Model:                            OLS   Adj. R-squared:                  0.217\n",
      "Method:                 Least Squares   F-statistic:                     107.4\n",
      "Date:                Fri, 28 May 2021   Prob (F-statistic):           2.47e-22\n",
      "Time:                        17:35:30   Log-Likelihood:                -975.32\n",
      "No. Observations:                 384   AIC:                             1955.\n",
      "Df Residuals:                     382   BIC:                             1963.\n",
      "Df Model:                           1                                         \n",
      "Covariance Type:            nonrobust                                         \n",
      "==============================================================================\n",
      "                 coef    std err          t      P>|t|      [0.025      0.975]\n",
      "------------------------------------------------------------------------------\n",
      "const          6.8275      0.293     23.303      0.000       6.251       7.404\n",
      "0              2.6556      0.256     10.361      0.000       2.152       3.160\n",
      "==============================================================================\n",
      "Omnibus:                      108.212   Durbin-Watson:                   1.901\n",
      "Prob(Omnibus):                  0.000   Jarque-Bera (JB):              255.712\n",
      "Skew:                           1.405   Prob(JB):                     2.97e-56\n",
      "Kurtosis:                       5.844   Cond. No.                         3.48\n",
      "==============================================================================\n",
      "\n",
      "Warnings:\n",
      "[1] Standard Errors assume that the covariance matrix of the errors is correctly specified.\n"
     ]
    }
   ],
   "source": [
    "# Using an inbuilt model\n",
    "# An intercept is not included by default and should be added to use sm.OLS\n",
    "ave_m = sm.add_constant(ave)\n",
    "model_OLS_1=sm.OLS(std,ave_m).fit()\n",
    "print(model_OLS_1.summary())"
   ]
  },
  {
   "cell_type": "markdown",
   "metadata": {},
   "source": [
    "## Q 1.3) Interpretation of $\\beta_2$\n",
    "\n",
    "### Using OLS estimator $\\beta_1 = 6.82$ and $\\beta_2 = 2.65$\n",
    "\n",
    "### The above regression model is level-level.\n",
    "\n",
    "### so, 1 unit increase in average returns adds 2.65 to the standard deviation"
   ]
  },
  {
   "cell_type": "markdown",
   "metadata": {},
   "source": [
    "## Q 1.4) Plotting average returns and standard deviations of 384 financial assets along with the values generated by the estimated linear regression model"
   ]
  },
  {
   "cell_type": "code",
   "execution_count": 6,
   "metadata": {},
   "outputs": [
    {
     "data": {
      "image/png": "[encoded data removed]",
      "text/plain": [
       "<Figure size 432x288 with 1 Axes>"
      ]
     },
     "metadata": {
      "needs_background": "light"
     },
     "output_type": "display_data"
    }
   ],
   "source": [
    "#The fit function will generate the fitted values of the regression model\n",
    "def fit(beta1, beta2, x):\n",
    "  return beta2*x+beta1 \n",
    "fitted_values = fit(beta1, beta2, ave)\n",
    "plt.scatter(ave, std, c='r', label = 'actual')\n",
    "plt.scatter(ave, fitted_values, c='g', label = 'fitted')\n",
    "plt.xlabel('average returns')\n",
    "plt.ylabel('standard deviations')\n",
    "plt.legend()\n",
    "plt.show()"
   ]
  },
  {
   "cell_type": "markdown",
   "metadata": {},
   "source": [
    "## Q 1.5) Mathematical formula for estimators $\\beta_1$ and $\\beta_2$\n",
    "\n",
    "\\begin{equation}\n",
    "    \\beta_2 = \\frac {\\sum_{t=1}^T (ave_t - \\overline{ave})(std_t - \\overline{std})} {\\sum_{t=1}^{T} (ave_t - \\overline{ave})^2}\n",
    "\\end{equation}\n",
    "\n",
    "\\begin{equation}\n",
    "    \\beta_1 = \\overline{std} - \\beta_2\\overline{ave}\n",
    "\\end{equation}"
   ]
  },
  {
   "cell_type": "markdown",
   "metadata": {},
   "source": [
    "## Q 1.6) Testing the statistical significance of $\\beta_2$\n",
    "\n",
    "### Two sided statistical test: H0 : $\\beta_2 = 0$ vs H1 : ${\\beta_2}\\neq{0}$\n",
    "\n",
    "### Computing the z-statistic : \n",
    "\\begin{equation}\n",
    "    Z_{\\beta_2} = \\frac{\\hat{\\beta_2} - \\beta_2} {\\sqrt{\\frac{\\sigma^2}{\\sum_{t=1}^{T}(ave_t - \\overline{ave})^2}}}\n",
    "\\end{equation}\n",
    "\n",
    "### 95% significance test implies $Z_{crit} = 1.96$\n",
    "\n",
    "### Testing if $|Z_{\\beta_2}| > Z_{crit}$"
   ]
  },
  {
   "cell_type": "code",
   "execution_count": 7,
   "metadata": {},
   "outputs": [
    {
     "name": "stdout",
     "output_type": "stream",
     "text": [
      "Z score of the OLS estimator is : 10.360998618447704\n",
      "Reject Null hypothesis? :  True\n"
     ]
    }
   ],
   "source": [
    "# Unbiased estimator of the variance of the error\n",
    "def sigma2(beta1, beta2, y, x):\n",
    "  er = y - fit(beta1, beta2, x)\n",
    "  verr = sum(er**2)/(len(er) - 2)\n",
    "  return verr\n",
    "\n",
    "# Variance of the OLS estimator\n",
    "def var_OLS(x, sigma2):\n",
    "  varOLS = sigma2/sum((x-x.mean())**2)\n",
    "  return varOLS\n",
    "\n",
    "s2 = sigma2(beta1, beta2, std, ave)\n",
    "varOLS = var_OLS(ave, s2)\n",
    "beta_true = 0\n",
    "z_beta2 = (beta2 - beta_true) / math.sqrt(varOLS)\n",
    "z95 = 1.96\n",
    "print(\"Z score of the OLS estimator is :\", z_beta2)\n",
    "print(\"Reject Null hypothesis? : \", abs(z_beta2) > z95 )"
   ]
  },
  {
   "cell_type": "markdown",
   "metadata": {},
   "source": [
    "## After statistical test : $Z_{\\beta_2} = 10.36$ \n",
    "\n",
    "### Given  $Z_{crit} = 1.96$\n",
    "\n",
    "### Therefore $|Z_{\\beta_2}| > Z_{crit}$\n",
    "\n",
    "### Hence we reject the null hypothesis\n",
    "\n",
    "### Interpretation : Through hypothesis testing we can say that average returns do have an effect on the risk of the financial asset"
   ]
  },
  {
   "cell_type": "markdown",
   "metadata": {},
   "source": [
    "# Q 2) Linear regression: Mathematical framework\n",
    "\n",
    "### Relation between life expectancy and the Gross Domestic Product (GDP) per capita (in thousands of dollars)"
   ]
  },
  {
   "cell_type": "code",
   "execution_count": 8,
   "metadata": {},
   "outputs": [
    {
     "data": {
      "text/html": [
       "<div>\n",
       "<style scoped>\n",
       "    .dataframe tbody tr th:only-of-type {\n",
       "        vertical-align: middle;\n",
       "    }\n",
       "\n",
       "    .dataframe tbody tr th {\n",
       "        vertical-align: top;\n",
       "    }\n",
       "\n",
       "    .dataframe thead th {\n",
       "        text-align: right;\n",
       "    }\n",
       "</style>\n",
       "<table border=\"1\" class=\"dataframe\">\n",
       "  <thead>\n",
       "    <tr style=\"text-align: right;\">\n",
       "      <th></th>\n",
       "      <th>Life_exp</th>\n",
       "      <th>GDP_pcap</th>\n",
       "    </tr>\n",
       "  </thead>\n",
       "  <tbody>\n",
       "    <tr>\n",
       "      <th>1</th>\n",
       "      <td>64.047</td>\n",
       "      <td>1.758466</td>\n",
       "    </tr>\n",
       "    <tr>\n",
       "      <th>2</th>\n",
       "      <td>78.495</td>\n",
       "      <td>11.803284</td>\n",
       "    </tr>\n",
       "    <tr>\n",
       "      <th>3</th>\n",
       "      <td>76.293</td>\n",
       "      <td>13.876295</td>\n",
       "    </tr>\n",
       "    <tr>\n",
       "      <th>4</th>\n",
       "      <td>61.809</td>\n",
       "      <td>6.044972</td>\n",
       "    </tr>\n",
       "    <tr>\n",
       "      <th>5</th>\n",
       "      <td>76.519</td>\n",
       "      <td>22.855748</td>\n",
       "    </tr>\n",
       "  </tbody>\n",
       "</table>\n",
       "</div>"
      ],
      "text/plain": [
       "   Life_exp   GDP_pcap\n",
       "1    64.047   1.758466\n",
       "2    78.495  11.803284\n",
       "3    76.293  13.876295\n",
       "4    61.809   6.044972\n",
       "5    76.519  22.855748"
      ]
     },
     "execution_count": 8,
     "metadata": {},
     "output_type": "execute_result"
    }
   ],
   "source": [
    "#Importing dataset\n",
    "url = \"https://raw.githubusercontent.com/adufays/GDP_expectancy/main/life_gdp.csv\"\n",
    "df = pd.read_csv(url,sep=\",\")\n",
    "#Remove Space in column name\n",
    "df.rename(columns={'Life exp.':'Life_exp', 'GDPpcap':'GDP_pcap'},inplace = True)\n",
    "#View the dataset\n",
    "df.head()"
   ]
  },
  {
   "cell_type": "markdown",
   "metadata": {},
   "source": [
    "## Q 2.1) Making a scatter plot : GDP vs life expectancy, and add the fitted values (level-level)"
   ]
  },
  {
   "cell_type": "code",
   "execution_count": 9,
   "metadata": {},
   "outputs": [
    {
     "name": "stdout",
     "output_type": "stream",
     "text": [
      "       beta1     beta2\n",
      "0  67.513673  0.249325\n"
     ]
    },
    {
     "data": {
      "text/plain": [
       "Text(0, 0.5, 'Life Expectancy')"
      ]
     },
     "execution_count": 9,
     "metadata": {},
     "output_type": "execute_result"
    },
    {
     "data": {
      "image/png": "[encoded data removed]",
      "text/plain": [
       "<Figure size 432x288 with 1 Axes>"
      ]
     },
     "metadata": {
      "needs_background": "light"
     },
     "output_type": "display_data"
    }
   ],
   "source": [
    "#Plot\n",
    "x = df.GDP_pcap\n",
    "y = df.Life_exp\n",
    "#Calculate beta\n",
    "x_bar = np.mean(x)\n",
    "y_bar = np.mean(y)\n",
    "beta2 = np.dot(x-x_bar,y-y_bar)/np.dot(x-x_bar,x-x_bar)\n",
    "beta1 = y_bar - beta2 * x_bar\n",
    "df_beta=pd.DataFrame(np.array((beta1,beta2),ndmin=2),columns=[\"beta1\",\"beta2\"])\n",
    "print(df_beta)\n",
    "#Plot\n",
    "plt.scatter(x, y, c='r')\n",
    "plt.plot(x,beta1 + beta2*x,linewidth=2)\n",
    "plt.xlabel('GDP Per Capital')\n",
    "plt.ylabel('Life Expectancy')"
   ]
  },
  {
   "cell_type": "markdown",
   "metadata": {},
   "source": [
    "## Q 2.1) Making a scatter plot : GDP vs life expectancy, and add the fitted values (level-ln)"
   ]
  },
  {
   "cell_type": "code",
   "execution_count": 10,
   "metadata": {},
   "outputs": [
    {
     "name": "stdout",
     "output_type": "stream",
     "text": [
      "       beta1     beta2\n",
      "0  59.659329  5.333648\n"
     ]
    },
    {
     "data": {
      "text/plain": [
       "Text(0, 0.5, 'Life Expectancy')"
      ]
     },
     "execution_count": 10,
     "metadata": {},
     "output_type": "execute_result"
    },
    {
     "data": {
      "image/png": "[encoded data removed]",
      "text/plain": [
       "<Figure size 432x288 with 1 Axes>"
      ]
     },
     "metadata": {
      "needs_background": "light"
     },
     "output_type": "display_data"
    }
   ],
   "source": [
    "lnx=np.log(x)\n",
    "lnx_bar = np.mean(lnx)\n",
    "y_bar = np.mean(y)\n",
    "beta2 = np.dot(lnx-lnx_bar,y-y_bar)/np.dot(lnx-lnx_bar,lnx-lnx_bar)\n",
    "beta1 = y_bar - beta2 * lnx_bar\n",
    "df_beta=pd.DataFrame(np.array((beta1,beta2),ndmin=2),columns=[\"beta1\",\"beta2\"])\n",
    "print(df_beta)\n",
    "\n",
    "#Plot\n",
    "plt.scatter(lnx, y, c='r')\n",
    "plt.plot(lnx,beta1 + beta2*lnx,linewidth=2)\n",
    "plt.xlabel('ln(GDP Per Capital)')\n",
    "plt.ylabel('Life Expectancy')"
   ]
  },
  {
   "cell_type": "markdown",
   "metadata": {},
   "source": [
    "## Q 2.3) Estimate the coefficient of determination of the two regressions. Compare."
   ]
  },
  {
   "cell_type": "markdown",
   "metadata": {},
   "source": [
    "### a) for levle-level regression \n",
    "\\begin{equation}\n",
    "   y_t = \\beta_1 + \\beta_2x_t + \\epsilon_t\n",
    "\\end{equation}\n",
    "the coefficient of determination is as follow:"
   ]
  },
  {
   "cell_type": "code",
   "execution_count": 11,
   "metadata": {},
   "outputs": [
    {
     "name": "stdout",
     "output_type": "stream",
     "text": [
      "                            OLS Regression Results                            \n",
      "==============================================================================\n",
      "Dep. Variable:               Life_exp   R-squared:                       0.442\n",
      "Model:                            OLS   Adj. R-squared:                  0.439\n",
      "Method:                 Least Squares   F-statistic:                     142.4\n",
      "Date:                Fri, 28 May 2021   Prob (F-statistic):           1.47e-24\n",
      "Time:                        17:35:31   Log-Likelihood:                -574.97\n",
      "No. Observations:                 182   AIC:                             1154.\n",
      "Df Residuals:                     180   BIC:                             1160.\n",
      "Df Model:                           1                                         \n",
      "Covariance Type:            nonrobust                                         \n",
      "==============================================================================\n",
      "                 coef    std err          t      P>|t|      [0.025      0.975]\n",
      "------------------------------------------------------------------------------\n",
      "const         67.5137      0.585    115.478      0.000      66.360      68.667\n",
      "GDP_pcap       0.2493      0.021     11.933      0.000       0.208       0.291\n",
      "==============================================================================\n",
      "Omnibus:                       22.094   Durbin-Watson:                   2.006\n",
      "Prob(Omnibus):                  0.000   Jarque-Bera (JB):               26.566\n",
      "Skew:                          -0.925   Prob(JB):                     1.70e-06\n",
      "Kurtosis:                       3.285   Cond. No.                         38.5\n",
      "==============================================================================\n",
      "\n",
      "Warnings:\n",
      "[1] Standard Errors assume that the covariance matrix of the errors is correctly specified.\n"
     ]
    }
   ],
   "source": [
    "#Add an intercept\n",
    "x_m = sm.add_constant(x)\n",
    "res = sm.OLS(y,x_m).fit()\n",
    "print(res.summary())"
   ]
  },
  {
   "cell_type": "markdown",
   "metadata": {},
   "source": [
    "### b) for levle-log regression \n",
    "\\begin{equation}\n",
    "   y_t = \\beta_1 + \\beta_2lnx_t + \\epsilon_t\n",
    "\\end{equation}\n",
    "the coefficient of determination is as follow:"
   ]
  },
  {
   "cell_type": "code",
   "execution_count": 12,
   "metadata": {},
   "outputs": [
    {
     "name": "stdout",
     "output_type": "stream",
     "text": [
      "                            OLS Regression Results                            \n",
      "==============================================================================\n",
      "Dep. Variable:               Life_exp   R-squared:                       0.680\n",
      "Model:                            OLS   Adj. R-squared:                  0.678\n",
      "Method:                 Least Squares   F-statistic:                     382.8\n",
      "Date:                Fri, 28 May 2021   Prob (F-statistic):           2.00e-46\n",
      "Time:                        17:35:31   Log-Likelihood:                -524.28\n",
      "No. Observations:                 182   AIC:                             1053.\n",
      "Df Residuals:                     180   BIC:                             1059.\n",
      "Df Model:                           1                                         \n",
      "Covariance Type:            nonrobust                                         \n",
      "==============================================================================\n",
      "                 coef    std err          t      P>|t|      [0.025      0.975]\n",
      "------------------------------------------------------------------------------\n",
      "const         59.6593      0.722     82.628      0.000      58.235      61.084\n",
      "GDP_pcap       5.3336      0.273     19.565      0.000       4.796       5.872\n",
      "==============================================================================\n",
      "Omnibus:                       40.029   Durbin-Watson:                   2.238\n",
      "Prob(Omnibus):                  0.000   Jarque-Bera (JB):               68.168\n",
      "Skew:                          -1.116   Prob(JB):                     1.58e-15\n",
      "Kurtosis:                       5.002   Cond. No.                         6.65\n",
      "==============================================================================\n",
      "\n",
      "Warnings:\n",
      "[1] Standard Errors assume that the covariance matrix of the errors is correctly specified.\n"
     ]
    }
   ],
   "source": [
    "lnx_m = sm.add_constant(lnx)\n",
    "lnres = sm.OLS(y,lnx_m).fit()\n",
    "print(lnres.summary())"
   ]
  },
  {
   "cell_type": "markdown",
   "metadata": {},
   "source": [
    "### Interpretation: \n",
    "The coefficient of determination for the regressions above are 0.442 and 0.680 respectively.\n",
    "\n",
    "for $y_t = \\beta_1 + \\beta_2x_t + \\epsilon_t$, approximately 44.2% of the variation of Life Expectancy could be explained by GDP per capital\n",
    "\n",
    "for $y_t = \\beta_1 + \\beta_2lnx_t + \\epsilon_t$, 68% of the variation of Life Expectancy could be explained by GDP per capital.\n",
    "### Conclusion:\n",
    "the second regression model fits better"
   ]
  },
  {
   "cell_type": "markdown",
   "metadata": {},
   "source": [
    " ## Q 2.4) Compute the empirical correlation"
   ]
  },
  {
   "cell_type": "code",
   "execution_count": 13,
   "metadata": {},
   "outputs": [
    {
     "name": "stdout",
     "output_type": "stream",
     "text": [
      "0.4417005505296341\n"
     ]
    }
   ],
   "source": [
    "corr = x.corr(y)\n",
    "print(corr**2)"
   ]
  },
  {
   "cell_type": "code",
   "execution_count": 14,
   "metadata": {},
   "outputs": [
    {
     "name": "stdout",
     "output_type": "stream",
     "text": [
      "0.6801556970979602\n"
     ]
    }
   ],
   "source": [
    "lncorr = lnx.corr(y)\n",
    "print(lncorr**2)"
   ]
  },
  {
   "cell_type": "markdown",
   "metadata": {},
   "source": [
    "### Conclusion: \n",
    "the squared empirical correlation equal to the coefficient of determination respectively.\n",
    "$$R^2 = \\rho_{\\hat{y}{y}}^2$$"
   ]
  },
  {
   "cell_type": "markdown",
   "metadata": {},
   "source": [
    "# Q3 Generating spurious correlation"
   ]
  },
  {
   "cell_type": "code",
   "execution_count": 15,
   "metadata": {},
   "outputs": [
    {
     "name": "stdout",
     "output_type": "stream",
     "text": [
      "(262, 3)\n"
     ]
    },
    {
     "data": {
      "text/html": [
       "<div>\n",
       "<style scoped>\n",
       "    .dataframe tbody tr th:only-of-type {\n",
       "        vertical-align: middle;\n",
       "    }\n",
       "\n",
       "    .dataframe tbody tr th {\n",
       "        vertical-align: top;\n",
       "    }\n",
       "\n",
       "    .dataframe thead th {\n",
       "        text-align: right;\n",
       "    }\n",
       "</style>\n",
       "<table border=\"1\" class=\"dataframe\">\n",
       "  <thead>\n",
       "    <tr style=\"text-align: right;\">\n",
       "      <th></th>\n",
       "      <th>Date</th>\n",
       "      <th>Apple returns</th>\n",
       "      <th>Russell returns</th>\n",
       "    </tr>\n",
       "  </thead>\n",
       "  <tbody>\n",
       "    <tr>\n",
       "      <th>0</th>\n",
       "      <td>2016-04-25</td>\n",
       "      <td>-11.989084</td>\n",
       "      <td>-1.260337</td>\n",
       "    </tr>\n",
       "    <tr>\n",
       "      <th>1</th>\n",
       "      <td>2016-05-02</td>\n",
       "      <td>-1.094085</td>\n",
       "      <td>-0.561795</td>\n",
       "    </tr>\n",
       "    <tr>\n",
       "      <th>2</th>\n",
       "      <td>2016-05-09</td>\n",
       "      <td>-1.794334</td>\n",
       "      <td>-0.581591</td>\n",
       "    </tr>\n",
       "    <tr>\n",
       "      <th>3</th>\n",
       "      <td>2016-05-16</td>\n",
       "      <td>5.061906</td>\n",
       "      <td>0.377336</td>\n",
       "    </tr>\n",
       "    <tr>\n",
       "      <th>4</th>\n",
       "      <td>2016-05-23</td>\n",
       "      <td>5.247411</td>\n",
       "      <td>2.334956</td>\n",
       "    </tr>\n",
       "  </tbody>\n",
       "</table>\n",
       "</div>"
      ],
      "text/plain": [
       "         Date  Apple returns  Russell returns\n",
       "0  2016-04-25     -11.989084        -1.260337\n",
       "1  2016-05-02      -1.094085        -0.561795\n",
       "2  2016-05-09      -1.794334        -0.581591\n",
       "3  2016-05-16       5.061906         0.377336\n",
       "4  2016-05-23       5.247411         2.334956"
      ]
     },
     "execution_count": 15,
     "metadata": {},
     "output_type": "execute_result"
    }
   ],
   "source": [
    "#import data\n",
    "df_3 = pd.read_csv('https://raw.githubusercontent.com/adufays/GDP_expectancy/main/Appl_Russell.csv',index_col = False)\n",
    "df_3 = df_3.drop('Unnamed: 0', axis = 1)\n",
    "\n",
    "#quick exploration of data\n",
    "print(df_3.shape)\n",
    "df_3.head(5)"
   ]
  },
  {
   "cell_type": "markdown",
   "metadata": {},
   "source": [
    "## Q 3.1) Generate 1000 explanatory variables from Normal Distribution"
   ]
  },
  {
   "cell_type": "code",
   "execution_count": 16,
   "metadata": {},
   "outputs": [
    {
     "data": {
      "text/plain": [
       "(262, 3)"
      ]
     },
     "execution_count": 16,
     "metadata": {},
     "output_type": "execute_result"
    }
   ],
   "source": [
    "#compute the sample size of apple asset returns\n",
    "df_3.shape"
   ]
  },
  {
   "cell_type": "code",
   "execution_count": 17,
   "metadata": {},
   "outputs": [],
   "source": [
    "#generate explanatory variables\n",
    "df_explanVar = pd.DataFrame()\n",
    "for i in range(1000):\n",
    "    df_explanVar[i] = norm.rvs(size=262, loc=0, scale=1)"
   ]
  },
  {
   "cell_type": "code",
   "execution_count": 18,
   "metadata": {},
   "outputs": [],
   "source": [
    "y = df_3['Apple returns']\n",
    "test_statistics = []\n",
    "x_for_plot = []\n",
    "\n",
    "#estimate linear regression:\n",
    "for i in range(1000):\n",
    "    x_model = df_explanVar.iloc[:,i]\n",
    "    slope, intercept, r_value, p_value, std_err = stats.linregress(x_model, y)\n",
    "    x_for_plot.append(i)\n",
    "    test_statistics.append(slope/std_err)\n",
    "\n",
    "#where intercept is beta1 and slope is beta2\n"
   ]
  },
  {
   "cell_type": "markdown",
   "metadata": {},
   "source": [
    "1000 explanatory variables of size 262 are created"
   ]
  },
  {
   "cell_type": "markdown",
   "metadata": {},
   "source": [
    "## Q3.2) Make a plot of these statistics."
   ]
  },
  {
   "cell_type": "code",
   "execution_count": 19,
   "metadata": {},
   "outputs": [],
   "source": [
    "y = df_3['Apple returns']\n",
    "test_statistics = []\n",
    "#slope_1 = []\n",
    "x_for_plot = []\n",
    "\n",
    "for i in range(1000):\n",
    "    x_model = df_explanVar.iloc[:,i]\n",
    "    slope, intercept, r_value, p_value, std_err = stats.linregress(x_model, y)\n",
    "    x_for_plot.append(i)\n",
    "    test_statistics.append(slope/std_err)\n",
    "    #np.append(slope_1,slope)"
   ]
  },
  {
   "cell_type": "code",
   "execution_count": 20,
   "metadata": {},
   "outputs": [
    {
     "data": {
      "text/plain": [
       "(array([  3.,   4.,  10.,  10.,  28.,  27.,  41.,  79.,  95., 105., 101.,\n",
       "        111.,  91.,  75.,  72.,  56.,  44.,  22.,   7.,   9.,   5.,   4.,\n",
       "          1.]),\n",
       " array([-2.91833099, -2.65334223, -2.38835346, -2.12336469, -1.85837593,\n",
       "        -1.59338716, -1.3283984 , -1.06340963, -0.79842087, -0.5334321 ,\n",
       "        -0.26844333, -0.00345457,  0.2615342 ,  0.52652296,  0.79151173,\n",
       "         1.05650049,  1.32148926,  1.58647803,  1.85146679,  2.11645556,\n",
       "         2.38144432,  2.64643309,  2.91142185,  3.17641062]),\n",
       " <a list of 23 Patch objects>)"
      ]
     },
     "execution_count": 20,
     "metadata": {},
     "output_type": "execute_result"
    },
    {
     "data": {
      "image/png": "[encoded data removed]",
      "text/plain": [
       "<Figure size 432x288 with 1 Axes>"
      ]
     },
     "metadata": {
      "needs_background": "light"
     },
     "output_type": "display_data"
    }
   ],
   "source": [
    "plt.hist(x=test_statistics, bins='auto', color='#0504aa',alpha=0.7, rwidth=0.85)"
   ]
  },
  {
   "cell_type": "code",
   "execution_count": 21,
   "metadata": {},
   "outputs": [
    {
     "data": {
      "image/png": "[encoded data removed]",
      "text/plain": [
       "<Figure size 432x288 with 1 Axes>"
      ]
     },
     "metadata": {
      "needs_background": "light"
     },
     "output_type": "display_data"
    }
   ],
   "source": [
    "import matplotlib.pyplot as plt\n",
    "\n",
    "#Make a plot of these statistics.\n",
    "\n",
    "plt.scatter(x_for_plot, test_statistics, c = 'blue', s = 5, alpha = 0.7, label = 'test statistics values')\n",
    "plt.grid()\n",
    "plt.legend(fontsize = 14)\n",
    "plt.rcParams['figure.figsize'] = (10.0, 7.0)\n",
    "\n",
    "plt.xlabel('1000 random normal distribution values')\n",
    "plt.ylabel('test statistics value')\n",
    "plt.show()"
   ]
  },
  {
   "cell_type": "markdown",
   "metadata": {},
   "source": [
    "## Q 3.2) Write the mathematical formula of the statistics \n"
   ]
  },
  {
   "cell_type": "markdown",
   "metadata": {},
   "source": [
    "##  Q 3.3) Take the maximum value of these test statistics in absolute value"
   ]
  },
  {
   "cell_type": "code",
   "execution_count": 22,
   "metadata": {},
   "outputs": [
    {
     "name": "stdout",
     "output_type": "stream",
     "text": [
      "So, the maximum value of test statistics is: 3.1764106191579673\n"
     ]
    }
   ],
   "source": [
    "abs_t = abs(np.array(test_statistics))\n",
    "max_t = abs_t.max()\n",
    "print(\"So, the maximum value of test statistics is:\",  max_t)"
   ]
  },
  {
   "cell_type": "markdown",
   "metadata": {},
   "source": [
    "##  Q 3.3)  Calculate p-value."
   ]
  },
  {
   "cell_type": "markdown",
   "metadata": {},
   "source": [
    "Since $P-value = 2(1-P[Z\\leq|Z_{\\beta}|])$, we have:"
   ]
  },
  {
   "cell_type": "code",
   "execution_count": 23,
   "metadata": {},
   "outputs": [
    {
     "name": "stdout",
     "output_type": "stream",
     "text": [
      "P-value is:  0.0014910973022814744\n"
     ]
    }
   ],
   "source": [
    "p_value = 2*(1-norm.cdf(max_t))\n",
    "print('P-value is: ', p_value)"
   ]
  },
  {
   "cell_type": "markdown",
   "metadata": {},
   "source": [
    "Conclusion: \n",
    "If a beta value of 0 means the dependent variables are uncorrelated with the apple returns.\n",
    "\n",
    "Since the p-value is smaller then 0.05, the Null Hypothesis (Beta = 0) at a significant level of 95% should be rejected."
   ]
  }
 ],
 "metadata": {
  "kernelspec": {
   "display_name": "Python 3",
   "language": "python",
   "name": "python3"
  },
  "language_info": {
   "codemirror_mode": {
    "name": "ipython",
    "version": 3
   },
   "file_extension": ".py",
   "mimetype": "text/x-python",
   "name": "python",
   "nbconvert_exporter": "python",
   "pygments_lexer": "ipython3",
   "version": "3.7.6"
  }
 },
 "nbformat": 4,
 "nbformat_minor": 4
}
